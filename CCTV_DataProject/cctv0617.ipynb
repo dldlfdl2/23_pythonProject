{
  "nbformat": 4,
  "nbformat_minor": 0,
  "metadata": {
    "colab": {
      "provenance": []
    },
    "kernelspec": {
      "name": "python3",
      "display_name": "Python 3"
    },
    "language_info": {
      "name": "python"
    }
  },
  "cells": [
    {
      "cell_type": "markdown",
      "source": [
        "## import module"
      ],
      "metadata": {
        "id": "VQjymW2TV0H7"
      }
    },
    {
      "cell_type": "code",
      "execution_count": 22,
      "metadata": {
        "id": "YLfPzbQWLVdn"
      },
      "outputs": [],
      "source": [
        "import matplotlib.pyplot as plt\n",
        "import random\n",
        "import pandas as pd"
      ]
    },
    {
      "cell_type": "markdown",
      "source": [
        "#### 🎉 파일 경로 지정"
      ],
      "metadata": {
        "id": "bRtK1d0vV8Dz"
      }
    },
    {
      "cell_type": "code",
      "source": [
        "path = '/content/cctv.csv'\n",
        "cctv = pd.read_csv(path , encoding='cp949')"
      ],
      "metadata": {
        "id": "SLzpQnKgVt0V"
      },
      "execution_count": 23,
      "outputs": []
    },
    {
      "cell_type": "code",
      "source": [
        "cctv.head()\n",
        "cctv.info()\n",
        "\n",
        "#cctv = cctv.fillna(0)\n",
        "cctv = cctv.dropna()\n",
        "cctv.isna().sum()\n",
        "\n",
        "#p = [16, 75, 79, 146, 246, 302, 354, 358, 371, 400, 452, 470, 555, 573, 613, 614]\n",
        "\n",
        "#for a in range(19):\n",
        "#   p.append(random.randint(1, 1000))\n",
        "#   print(sorted(p))\n",
        "#   plt.boxplot(p)\n",
        "#   plt.shwowo\n",
        "\n",
        "# plt.figure(figsize=(22, 3))\n",
        "# plt.xlabel(\"x data\")\n",
        "# plt.ylabel(\"y label\")\n",
        "\n",
        "# x = [1, 2, 3, 4, 5]\n",
        "# y = [7, 8, 9, 10, 15]\n",
        "\n",
        "# plt.plot(x, y)\n",
        "# plt.show()"
      ],
      "metadata": {
        "id": "-vThqjg6WHDC",
        "outputId": "3de6225e-869e-4723-85e4-ff8dd8525df5",
        "colab": {
          "base_uri": "https://localhost:8080/"
        }
      },
      "execution_count": 24,
      "outputs": [
        {
          "output_type": "stream",
          "name": "stdout",
          "text": [
            "<class 'pandas.core.frame.DataFrame'>\n",
            "RangeIndex: 25 entries, 0 to 24\n",
            "Data columns (total 9 columns):\n",
            " #   Column  Non-Null Count  Dtype \n",
            "---  ------  --------------  ----- \n",
            " 0   구분      25 non-null     object\n",
            " 1   2015년   25 non-null     object\n",
            " 2   2016년   25 non-null     object\n",
            " 3   2017년   25 non-null     object\n",
            " 4   2018년   25 non-null     object\n",
            " 5   2019년   25 non-null     object\n",
            " 6   2020년   25 non-null     object\n",
            " 7   2021년   25 non-null     int64 \n",
            " 8   2022년   25 non-null     int64 \n",
            "dtypes: int64(2), object(7)\n",
            "memory usage: 1.9+ KB\n"
          ]
        },
        {
          "output_type": "execute_result",
          "data": {
            "text/plain": [
              "구분       0\n",
              "2015년    0\n",
              "2016년    0\n",
              "2017년    0\n",
              "2018년    0\n",
              "2019년    0\n",
              "2020년    0\n",
              "2021년    0\n",
              "2022년    0\n",
              "dtype: int64"
            ]
          },
          "metadata": {},
          "execution_count": 24
        }
      ]
    },
    {
      "cell_type": "code",
      "source": [],
      "metadata": {
        "id": "KuvzmQz5WH7q"
      },
      "execution_count": null,
      "outputs": []
    }
  ]
}